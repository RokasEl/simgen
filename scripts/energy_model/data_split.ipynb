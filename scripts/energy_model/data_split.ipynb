{
 "cells": [
  {
   "attachments": {},
   "cell_type": "markdown",
   "metadata": {},
   "source": [
    "# Data preparation for the Energy-based diffusion model"
   ]
  },
  {
   "attachments": {},
   "cell_type": "markdown",
   "metadata": {},
   "source": [
    "Compared to the similarity-kernel based generation, the energy-based diffusion model is specifically trained to generate molecules. Thus, we have to ensure a proper training/test split. To make this more challenging we will do a scaffold split and stratify the split by the number of heavy atoms."
   ]
  },
  {
   "cell_type": "code",
   "execution_count": 1,
   "metadata": {},
   "outputs": [],
   "source": [
    "import ase\n",
    "import ase.io as aio\n",
    "from rdkit import Chem"
   ]
  },
  {
   "cell_type": "code",
   "execution_count": 3,
   "metadata": {},
   "outputs": [
    {
     "ename": "KeyboardInterrupt",
     "evalue": "",
     "output_type": "error",
     "traceback": [
      "\u001b[0;31m---------------------------------------------------------------------------\u001b[0m",
      "\u001b[0;31mKeyboardInterrupt\u001b[0m                         Traceback (most recent call last)",
      "\u001b[1;32m/home/rokas/Programming/Generative_model_energy/scripts/energy_model/data_split.ipynb Cell 4\u001b[0m in \u001b[0;36m1\n\u001b[0;32m----> <a href='vscode-notebook-cell://wsl%2Bubuntu-22.04/home/rokas/Programming/Generative_model_energy/scripts/energy_model/data_split.ipynb#W3sdnNjb2RlLXJlbW90ZQ%3D%3D?line=0'>1</a>\u001b[0m all_qm9 \u001b[39m=\u001b[39m aio\u001b[39m.\u001b[39;49mread(\u001b[39m\"\u001b[39;49m\u001b[39m/home/rokas/Programming/data/qm9_full_data_all_props.xyz\u001b[39;49m\u001b[39m\"\u001b[39;49m, index\u001b[39m=\u001b[39;49m\u001b[39m\"\u001b[39;49m\u001b[39m:\u001b[39;49m\u001b[39m\"\u001b[39;49m, \u001b[39mformat\u001b[39;49m\u001b[39m=\u001b[39;49m\u001b[39m\"\u001b[39;49m\u001b[39mxyz\u001b[39;49m\u001b[39m\"\u001b[39;49m)\n",
      "File \u001b[0;32m~/miniconda3/envs/genesis/lib/python3.10/site-packages/ase/io/formats.py:733\u001b[0m, in \u001b[0;36mread\u001b[0;34m(filename, index, format, parallel, do_not_split_by_at_sign, **kwargs)\u001b[0m\n\u001b[1;32m    731\u001b[0m io \u001b[39m=\u001b[39m get_ioformat(\u001b[39mformat\u001b[39m)\n\u001b[1;32m    732\u001b[0m \u001b[39mif\u001b[39;00m \u001b[39misinstance\u001b[39m(index, (\u001b[39mslice\u001b[39m, \u001b[39mstr\u001b[39m)):\n\u001b[0;32m--> 733\u001b[0m     \u001b[39mreturn\u001b[39;00m \u001b[39mlist\u001b[39;49m(_iread(filename, index, \u001b[39mformat\u001b[39;49m, io, parallel\u001b[39m=\u001b[39;49mparallel,\n\u001b[1;32m    734\u001b[0m                        \u001b[39m*\u001b[39;49m\u001b[39m*\u001b[39;49mkwargs))\n\u001b[1;32m    735\u001b[0m \u001b[39melse\u001b[39;00m:\n\u001b[1;32m    736\u001b[0m     \u001b[39mreturn\u001b[39;00m \u001b[39mnext\u001b[39m(_iread(filename, \u001b[39mslice\u001b[39m(index, \u001b[39mNone\u001b[39;00m), \u001b[39mformat\u001b[39m, io,\n\u001b[1;32m    737\u001b[0m                        parallel\u001b[39m=\u001b[39mparallel, \u001b[39m*\u001b[39m\u001b[39m*\u001b[39mkwargs))\n",
      "File \u001b[0;32m~/miniconda3/envs/genesis/lib/python3.10/site-packages/ase/parallel.py:275\u001b[0m, in \u001b[0;36mparallel_generator.<locals>.new_generator\u001b[0;34m(*args, **kwargs)\u001b[0m\n\u001b[1;32m    269\u001b[0m \u001b[39m@functools\u001b[39m\u001b[39m.\u001b[39mwraps(generator)\n\u001b[1;32m    270\u001b[0m \u001b[39mdef\u001b[39;00m \u001b[39mnew_generator\u001b[39m(\u001b[39m*\u001b[39margs, \u001b[39m*\u001b[39m\u001b[39m*\u001b[39mkwargs):\n\u001b[1;32m    271\u001b[0m     \u001b[39mif\u001b[39;00m (world\u001b[39m.\u001b[39msize \u001b[39m==\u001b[39m \u001b[39m1\u001b[39m \u001b[39mor\u001b[39;00m\n\u001b[1;32m    272\u001b[0m         args \u001b[39mand\u001b[39;00m \u001b[39mgetattr\u001b[39m(args[\u001b[39m0\u001b[39m], \u001b[39m'\u001b[39m\u001b[39mserial\u001b[39m\u001b[39m'\u001b[39m, \u001b[39mFalse\u001b[39;00m) \u001b[39mor\u001b[39;00m\n\u001b[1;32m    273\u001b[0m         \u001b[39mnot\u001b[39;00m kwargs\u001b[39m.\u001b[39mpop(\u001b[39m'\u001b[39m\u001b[39mparallel\u001b[39m\u001b[39m'\u001b[39m, \u001b[39mTrue\u001b[39;00m)):\n\u001b[1;32m    274\u001b[0m         \u001b[39m# Disable:\u001b[39;00m\n\u001b[0;32m--> 275\u001b[0m         \u001b[39mfor\u001b[39;00m result \u001b[39min\u001b[39;00m generator(\u001b[39m*\u001b[39margs, \u001b[39m*\u001b[39m\u001b[39m*\u001b[39mkwargs):\n\u001b[1;32m    276\u001b[0m             \u001b[39myield\u001b[39;00m result\n\u001b[1;32m    277\u001b[0m         \u001b[39mreturn\u001b[39;00m\n",
      "File \u001b[0;32m~/miniconda3/envs/genesis/lib/python3.10/site-packages/ase/io/formats.py:803\u001b[0m, in \u001b[0;36m_iread\u001b[0;34m(filename, index, format, io, parallel, full_output, **kwargs)\u001b[0m\n\u001b[1;32m    801\u001b[0m \u001b[39m# Make sure fd is closed in case loop doesn't finish:\u001b[39;00m\n\u001b[1;32m    802\u001b[0m \u001b[39mtry\u001b[39;00m:\n\u001b[0;32m--> 803\u001b[0m     \u001b[39mfor\u001b[39;00m dct \u001b[39min\u001b[39;00m io\u001b[39m.\u001b[39mread(fd, \u001b[39m*\u001b[39margs, \u001b[39m*\u001b[39m\u001b[39m*\u001b[39mkwargs):\n\u001b[1;32m    804\u001b[0m         \u001b[39mif\u001b[39;00m \u001b[39mnot\u001b[39;00m \u001b[39misinstance\u001b[39m(dct, \u001b[39mdict\u001b[39m):\n\u001b[1;32m    805\u001b[0m             dct \u001b[39m=\u001b[39m {\u001b[39m'\u001b[39m\u001b[39matoms\u001b[39m\u001b[39m'\u001b[39m: dct}\n",
      "File \u001b[0;32m~/miniconda3/envs/genesis/lib/python3.10/site-packages/ase/io/xyz.py:29\u001b[0m, in \u001b[0;36mread_xyz\u001b[0;34m(fileobj, index)\u001b[0m\n\u001b[1;32m     27\u001b[0m         symbols\u001b[39m.\u001b[39mappend(symbol)\n\u001b[1;32m     28\u001b[0m         positions\u001b[39m.\u001b[39mappend([\u001b[39mfloat\u001b[39m(x), \u001b[39mfloat\u001b[39m(y), \u001b[39mfloat\u001b[39m(z)])\n\u001b[0;32m---> 29\u001b[0m     images\u001b[39m.\u001b[39mappend(Atoms(symbols\u001b[39m=\u001b[39;49msymbols, positions\u001b[39m=\u001b[39;49mpositions))\n\u001b[1;32m     30\u001b[0m \u001b[39mfor\u001b[39;00m atoms \u001b[39min\u001b[39;00m images[index]:\n\u001b[1;32m     31\u001b[0m     \u001b[39myield\u001b[39;00m atoms\n",
      "File \u001b[0;32m~/miniconda3/envs/genesis/lib/python3.10/site-packages/ase/atoms.py:236\u001b[0m, in \u001b[0;36mAtoms.__init__\u001b[0;34m(self, symbols, positions, numbers, tags, momenta, masses, magmoms, charges, scaled_positions, cell, pbc, celldisp, constraint, calculator, info, velocities)\u001b[0m\n\u001b[1;32m    234\u001b[0m \u001b[39mself\u001b[39m\u001b[39m.\u001b[39mset_tags(default(tags, \u001b[39m0\u001b[39m))\n\u001b[1;32m    235\u001b[0m \u001b[39mself\u001b[39m\u001b[39m.\u001b[39mset_masses(default(masses, \u001b[39mNone\u001b[39;00m))\n\u001b[0;32m--> 236\u001b[0m \u001b[39mself\u001b[39m\u001b[39m.\u001b[39mset_initial_magnetic_moments(default(magmoms, \u001b[39m0.0\u001b[39;49m))\n\u001b[1;32m    237\u001b[0m \u001b[39mself\u001b[39m\u001b[39m.\u001b[39mset_initial_charges(default(charges, \u001b[39m0.0\u001b[39m))\n\u001b[1;32m    238\u001b[0m \u001b[39mif\u001b[39;00m pbc \u001b[39mis\u001b[39;00m \u001b[39mNone\u001b[39;00m:\n",
      "File \u001b[0;32m~/miniconda3/envs/genesis/lib/python3.10/site-packages/ase/atoms.py:1996\u001b[0m, in \u001b[0;36mdefault\u001b[0;34m(data, dflt)\u001b[0m\n\u001b[1;32m   1992\u001b[0m         \u001b[39mreturn\u001b[39;00m w\n\u001b[1;32m   1993\u001b[0m     \u001b[39mreturn\u001b[39;00m np\u001b[39m.\u001b[39marray(v, \u001b[39mfloat\u001b[39m)\n\u001b[0;32m-> 1996\u001b[0m \u001b[39mdef\u001b[39;00m \u001b[39mdefault\u001b[39m(data, dflt):\n\u001b[1;32m   1997\u001b[0m \u001b[39m    \u001b[39m\u001b[39m\"\"\"Helper function for setting default values.\"\"\"\u001b[39;00m\n\u001b[1;32m   1998\u001b[0m     \u001b[39mif\u001b[39;00m data \u001b[39mis\u001b[39;00m \u001b[39mNone\u001b[39;00m:\n",
      "\u001b[0;31mKeyboardInterrupt\u001b[0m: "
     ]
    }
   ],
   "source": [
    "all_qm9 = aio.read(\"/home/rokas/Programming/data/qm9_full_data_all_props.xyz\", index=\":\", format=\"xyz\")"
   ]
  },
  {
   "cell_type": "code",
   "execution_count": null,
   "metadata": {},
   "outputs": [],
   "source": []
  }
 ],
 "metadata": {
  "kernelspec": {
   "display_name": "genesis",
   "language": "python",
   "name": "python3"
  },
  "language_info": {
   "codemirror_mode": {
    "name": "ipython",
    "version": 3
   },
   "file_extension": ".py",
   "mimetype": "text/x-python",
   "name": "python",
   "nbconvert_exporter": "python",
   "pygments_lexer": "ipython3",
   "version": "3.10.11"
  },
  "orig_nbformat": 4
 },
 "nbformat": 4,
 "nbformat_minor": 2
}
