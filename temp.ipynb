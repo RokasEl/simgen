{
 "cells": [
  {
   "cell_type": "code",
   "execution_count": 1,
   "metadata": {},
   "outputs": [],
   "source": [
    "import quippy\n",
    "import einops\n",
    "import numpy as np"
   ]
  },
  {
   "cell_type": "code",
   "execution_count": 2,
   "metadata": {},
   "outputs": [],
   "source": [
    "from moldiff.utils import initialize_mol"
   ]
  },
  {
   "cell_type": "code",
   "execution_count": 3,
   "metadata": {},
   "outputs": [],
   "source": [
    "mol = initialize_mol(\"C6H6\")"
   ]
  },
  {
   "cell_type": "code",
   "execution_count": 4,
   "metadata": {},
   "outputs": [
    {
     "name": "stderr",
     "output_type": "stream",
     "text": [
      "/home/rokas/miniconda3/envs/genesis/lib/python3.10/site-packages/tqdm/auto.py:22: TqdmWarning: IProgress not found. Please update jupyter and ipywidgets. See https://ipywidgets.readthedocs.io/en/stable/user_install.html\n",
      "  from .autonotebook import tqdm as notebook_tqdm\n"
     ]
    }
   ],
   "source": [
    "from moldiff.sampling import SOAPSimilarityModel"
   ]
  },
  {
   "cell_type": "code",
   "execution_count": 5,
   "metadata": {},
   "outputs": [],
   "source": [
    "training_data = [initialize_mol(\"C6H6\"), initialize_mol(\"CH4\"), initialize_mol(\"CH3OH\"), initialize_mol(\"H2O\")]"
   ]
  },
  {
   "cell_type": "code",
   "execution_count": 6,
   "metadata": {},
   "outputs": [],
   "source": [
    "scorer = SOAPSimilarityModel(training_data=training_data)"
   ]
  },
  {
   "cell_type": "code",
   "execution_count": 7,
   "metadata": {},
   "outputs": [
    {
     "data": {
      "text/plain": [
       "(26, 547)"
      ]
     },
     "execution_count": 7,
     "metadata": {},
     "output_type": "execute_result"
    }
   ],
   "source": [
    "scorer.reference_embeddings.shape"
   ]
  },
  {
   "cell_type": "code",
   "execution_count": 13,
   "metadata": {},
   "outputs": [
    {
     "name": "stdout",
     "output_type": "stream",
     "text": [
      "[[-0.00774872  1.34670471  0.02774704]\n",
      " [ 1.20695149  0.69266141 -0.03367271]\n",
      " [ 1.33196729 -0.76574677  0.01200852]\n",
      " [-0.02303214 -1.50604272 -0.01608922]\n",
      " [-1.23638801 -0.59750931 -0.09449511]\n",
      " [-1.19751762  0.68749614 -0.06661533]\n",
      " [ 0.03456925  2.49043929  0.01998897]\n",
      " [ 2.09045362  1.24693427 -0.09574844]\n",
      " [ 2.20072728 -1.26048729  0.01475237]\n",
      " [-0.0601745  -2.55494833 -0.08434789]\n",
      " [-2.15218245 -1.21607565  0.07508577]\n",
      " [-2.12708108  1.25766503 -0.03161351]]\n"
     ]
    },
    {
     "data": {
      "text/plain": [
       "array([[-0.05820536,  0.99640071, -0.06162596],\n",
       "       [-0.97498333,  0.21831973, -0.04176128],\n",
       "       [ 0.98575358,  0.16762384, -0.01386068],\n",
       "       [-0.02940119, -0.9968267 , -0.07397371],\n",
       "       [ 0.94766146,  0.29474899,  0.12272238],\n",
       "       [ 0.07132759,  0.99631385, -0.04765594],\n",
       "       [ 0.27817571, -0.96041585,  0.01482118],\n",
       "       [-0.73858554, -0.67413782,  0.00544075],\n",
       "       [ 0.95016757,  0.31165214,  0.00738452],\n",
       "       [ 0.01192176,  0.99652597, -0.08242489],\n",
       "       [-0.97140796,  0.21649234,  0.09745583],\n",
       "       [ 0.65910822,  0.75130639, -0.0333926 ]])"
      ]
     },
     "execution_count": 13,
     "metadata": {},
     "output_type": "execute_result"
    }
   ],
   "source": [
    "test_mol = initialize_mol(\"C6H6\")\n",
    "test_mol.set_positions(\n",
    "    test_mol.positions + 0.05*np.random.normal(size=test_mol.get_positions().shape)\n",
    ")\n",
    "print(test_mol.positions)\n",
    "scorer(test_mol,t=0)"
   ]
  },
  {
   "cell_type": "code",
   "execution_count": 9,
   "metadata": {},
   "outputs": [
    {
     "data": {
      "text/plain": [
       "array([[-1.21554972e-04, -9.99999993e-01,  0.00000000e+00],\n",
       "       [ 8.11689500e-01, -5.84089167e-01,  0.00000000e+00],\n",
       "       [ 9.99976167e-01,  6.90395161e-03,  0.00000000e+00],\n",
       "       [ 9.02687833e-01, -4.30296032e-01,  0.00000000e+00],\n",
       "       [-9.51294471e-01, -3.08283683e-01,  0.00000000e+00],\n",
       "       [ 4.84629798e-02, -9.98824979e-01,  0.00000000e+00],\n",
       "       [-1.05361278e-01,  9.94434010e-01,  0.00000000e+00],\n",
       "       [ 6.08428310e-01,  7.93608840e-01,  0.00000000e+00],\n",
       "       [ 5.30749750e-01,  8.47528585e-01,  0.00000000e+00],\n",
       "       [-2.97233838e-01,  9.54804716e-01,  0.00000000e+00],\n",
       "       [ 6.15889871e-02,  9.98101596e-01,  0.00000000e+00],\n",
       "       [ 2.78257233e-01, -9.60506591e-01,  0.00000000e+00]])"
      ]
     },
     "execution_count": 9,
     "metadata": {},
     "output_type": "execute_result"
    }
   ],
   "source": [
    "test_mol = initialize_mol(\"C6H6\")\n",
    "scorer(test_mol,t=0)"
   ]
  },
  {
   "cell_type": "code",
   "execution_count": null,
   "metadata": {},
   "outputs": [],
   "source": []
  }
 ],
 "metadata": {
  "kernelspec": {
   "display_name": "genesis",
   "language": "python",
   "name": "python3"
  },
  "language_info": {
   "codemirror_mode": {
    "name": "ipython",
    "version": 3
   },
   "file_extension": ".py",
   "mimetype": "text/x-python",
   "name": "python",
   "nbconvert_exporter": "python",
   "pygments_lexer": "ipython3",
   "version": "3.10.8"
  },
  "orig_nbformat": 4,
  "vscode": {
   "interpreter": {
    "hash": "e68d2f9fc6c1cb6587850f6560c0cdb702f952703decb4754840a1cf532d49ae"
   }
  }
 },
 "nbformat": 4,
 "nbformat_minor": 2
}
